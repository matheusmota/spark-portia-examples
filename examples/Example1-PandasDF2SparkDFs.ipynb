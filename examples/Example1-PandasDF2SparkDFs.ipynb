{
 "cells": [
  {
   "cell_type": "markdown",
   "metadata": {},
   "source": [
    "# Preparing the enviroment\n",
    "\n",
    "We will be using environment variables for Portia's information (keys, URLs, etc.) and some Spark/pyspark directives.\n",
    "\n",
    "Please refer to [this link](https://ipython.readthedocs.io/en/stable/interactive/magics.html#magic-env) for more information about Jupyter Magics for environment variables.\n",
    "\n",
    "```bash\n",
    "%env PYSPARK_PYTHON        = python3.6\n",
    "%env PYSPARK_DRIVER_PYTHON = python3.6\n",
    "```\n",
    "\n",
    "Alternatively, you may handle the environment variables programmatically via python itself\n",
    "\n",
    "```python\n",
    "import os \n",
    "os.environ[\"PYSPARK_PYTHON\"]        = \"python3.6\"\n",
    "os.environ[\"PYSPARK_DRIVER_PYTHON\"] = \"python3.6\"\n",
    "```\n",
    "\n",
    "Here we will be using [python-dotenv](https://github.com/theskumar/python-dotenv). Feel free to also [source](https://bash.cyberciti.biz/guide/Source_command) the file in bash (the \"source\" command within the file is ignored by python-dotenv)\n"
   ]
  },
  {
   "cell_type": "code",
   "execution_count": 1,
   "metadata": {},
   "outputs": [
    {
     "data": {
      "text/plain": [
       "True"
      ]
     },
     "execution_count": 1,
     "metadata": {},
     "output_type": "execute_result"
    }
   ],
   "source": [
    "# loading .env  \n",
    "import dotenv  \n",
    "import pathlib \n",
    "dotenv.load_dotenv(dotenv_path=pathlib.Path('../env'))"
   ]
  },
  {
   "cell_type": "markdown",
   "metadata": {},
   "source": [
    "## Setting up PySpark"
   ]
  },
  {
   "cell_type": "code",
   "execution_count": 2,
   "metadata": {},
   "outputs": [],
   "source": [
    "import os \n",
    "from pyspark import SparkConf, SparkContext"
   ]
  },
  {
   "cell_type": "code",
   "execution_count": 3,
   "metadata": {},
   "outputs": [],
   "source": [
    "conf  = SparkConf().setMaster(os.getenv(\"SPARK_MASTER_URL\")).setAppName(\"portia-integration\")\n",
    "spark = SparkContext(conf = conf)"
   ]
  },
  {
   "cell_type": "markdown",
   "metadata": {},
   "source": [
    "## Setting up Portia"
   ]
  },
  {
   "cell_type": "code",
   "execution_count": 4,
   "metadata": {},
   "outputs": [],
   "source": [
    "from portiapy.portia  import PortiaApi\n",
    "from portiapy.profile import ProfileStrategies\n",
    "from portiapy.summary import SummaryStrategies\n",
    "import json\n",
    "\n",
    "portia = PortiaApi({\n",
    "    'baseurl': os.getenv(\"PORTIA_BASEURL\") ,\n",
    "    'authorization': os.getenv(\"PORTIA_KEY\"), \n",
    "    'debug': bool(os.getenv(\"PORTIA_DEBUG\") == 'True')\n",
    "})"
   ]
  },
  {
   "cell_type": "markdown",
   "metadata": {},
   "source": [
    "### Params"
   ]
  },
  {
   "cell_type": "code",
   "execution_count": 5,
   "metadata": {},
   "outputs": [],
   "source": [
    "summary_params = {\n",
    "#    'from': grafana_from_timestamp,\n",
    "#    'to': grafana_to_timestamp,\n",
    "    'order': '1',\n",
    "    'precision': 'ms',\n",
    "    'min': True,\n",
    "    'max': True,\n",
    "    'sum': False,\n",
    "    'avg': False,\n",
    "    'median': False,\n",
    "    'mode'  : False,\n",
    "    'stddev': False,\n",
    "    'spread': False\n",
    "}\n",
    "\n",
    "select_params = {\n",
    "#     'from': None,\n",
    "#     'to': None,\n",
    "    'order': None,\n",
    "    'precision': 'ms',\n",
    "#     'limit': 1\n",
    "}"
   ]
  },
  {
   "cell_type": "code",
   "execution_count": 66,
   "metadata": {},
   "outputs": [],
   "source": [
    "edgeids   = os.getenv(\"EDGEIDS\").split(',')\n"
   ]
  },
  {
   "cell_type": "code",
   "execution_count": 7,
   "metadata": {},
   "outputs": [
    {
     "data": {
      "text/html": [
       "<div>\n",
       "<style scoped>\n",
       "    .dataframe tbody tr th:only-of-type {\n",
       "        vertical-align: middle;\n",
       "    }\n",
       "\n",
       "    .dataframe tbody tr th {\n",
       "        vertical-align: top;\n",
       "    }\n",
       "\n",
       "    .dataframe thead th {\n",
       "        text-align: right;\n",
       "    }\n",
       "</style>\n",
       "<table border=\"1\" class=\"dataframe\">\n",
       "  <thead>\n",
       "    <tr style=\"text-align: right;\">\n",
       "      <th></th>\n",
       "      <th>header_datetime</th>\n",
       "      <th>port</th>\n",
       "      <th>dimension_thing</th>\n",
       "    </tr>\n",
       "  </thead>\n",
       "  <tbody>\n",
       "    <tr>\n",
       "      <th>0</th>\n",
       "      <td>5 minutes ago</td>\n",
       "      <td>1</td>\n",
       "      <td>SondaTU_v1</td>\n",
       "    </tr>\n",
       "    <tr>\n",
       "      <th>1</th>\n",
       "      <td>just now</td>\n",
       "      <td>2</td>\n",
       "      <td>SondaTU_v1</td>\n",
       "    </tr>\n",
       "    <tr>\n",
       "      <th>2</th>\n",
       "      <td>seconds ago</td>\n",
       "      <td>3</td>\n",
       "      <td>SondaAirQ_v1</td>\n",
       "    </tr>\n",
       "  </tbody>\n",
       "</table>\n",
       "</div>"
      ],
      "text/plain": [
       "  header_datetime port dimension_thing\n",
       "0   5 minutes ago    1      SondaTU_v1\n",
       "1        just now    2      SondaTU_v1\n",
       "2     seconds ago    3    SondaAirQ_v1"
      ]
     },
     "execution_count": 7,
     "metadata": {},
     "output_type": "execute_result"
    }
   ],
   "source": [
    "ports_df = portia.device(edgeids[0]).ports(last=True)\n",
    "ports_df.humanize(datetime=True)"
   ]
  },
  {
   "cell_type": "code",
   "execution_count": 8,
   "metadata": {},
   "outputs": [
    {
     "data": {
      "text/html": [
       "<div>\n",
       "<style scoped>\n",
       "    .dataframe tbody tr th:only-of-type {\n",
       "        vertical-align: middle;\n",
       "    }\n",
       "\n",
       "    .dataframe tbody tr th {\n",
       "        vertical-align: top;\n",
       "    }\n",
       "\n",
       "    .dataframe thead th {\n",
       "        text-align: right;\n",
       "    }\n",
       "</style>\n",
       "<table border=\"1\" class=\"dataframe\">\n",
       "  <thead>\n",
       "    <tr style=\"text-align: right;\">\n",
       "      <th></th>\n",
       "      <th>header_timestamp</th>\n",
       "      <th>min</th>\n",
       "      <th>max</th>\n",
       "      <th>number_of_packages</th>\n",
       "      <th>Unnamed: 4</th>\n",
       "    </tr>\n",
       "  </thead>\n",
       "  <tbody>\n",
       "    <tr>\n",
       "      <th>0</th>\n",
       "      <td>1522800000000</td>\n",
       "      <td>23.8</td>\n",
       "      <td>31.8</td>\n",
       "      <td>401</td>\n",
       "      <td>NaN</td>\n",
       "    </tr>\n",
       "    <tr>\n",
       "      <th>1</th>\n",
       "      <td>1522886400000</td>\n",
       "      <td>19.7</td>\n",
       "      <td>33.9</td>\n",
       "      <td>1427</td>\n",
       "      <td>NaN</td>\n",
       "    </tr>\n",
       "    <tr>\n",
       "      <th>2</th>\n",
       "      <td>1522972800000</td>\n",
       "      <td>21.5</td>\n",
       "      <td>33.4</td>\n",
       "      <td>1425</td>\n",
       "      <td>NaN</td>\n",
       "    </tr>\n",
       "    <tr>\n",
       "      <th>3</th>\n",
       "      <td>1523059200000</td>\n",
       "      <td>21.0</td>\n",
       "      <td>34.5</td>\n",
       "      <td>1426</td>\n",
       "      <td>NaN</td>\n",
       "    </tr>\n",
       "    <tr>\n",
       "      <th>4</th>\n",
       "      <td>1523145600000</td>\n",
       "      <td>19.9</td>\n",
       "      <td>35.6</td>\n",
       "      <td>1420</td>\n",
       "      <td>NaN</td>\n",
       "    </tr>\n",
       "  </tbody>\n",
       "</table>\n",
       "</div>"
      ],
      "text/plain": [
       "   header_timestamp   min   max  number_of_packages  Unnamed: 4\n",
       "0     1522800000000  23.8  31.8                 401         NaN\n",
       "1     1522886400000  19.7  33.9                1427         NaN\n",
       "2     1522972800000  21.5  33.4                1425         NaN\n",
       "3     1523059200000  21.0  34.5                1426         NaN\n",
       "4     1523145600000  19.9  35.6                1420         NaN"
      ]
     },
     "execution_count": 8,
     "metadata": {},
     "output_type": "execute_result"
    }
   ],
   "source": [
    "summary_df = portia.device(edgeids[0]).port(1).sensor(1).summary(strategy=SummaryStrategies.PER_DAY, interval=1, params=summary_params)\n",
    "summary_df.head(5)"
   ]
  },
  {
   "cell_type": "code",
   "execution_count": 9,
   "metadata": {},
   "outputs": [
    {
     "data": {
      "text/html": [
       "<div>\n",
       "<style scoped>\n",
       "    .dataframe tbody tr th:only-of-type {\n",
       "        vertical-align: middle;\n",
       "    }\n",
       "\n",
       "    .dataframe tbody tr th {\n",
       "        vertical-align: top;\n",
       "    }\n",
       "\n",
       "    .dataframe thead th {\n",
       "        text-align: right;\n",
       "    }\n",
       "</style>\n",
       "<table border=\"1\" class=\"dataframe\">\n",
       "  <thead>\n",
       "    <tr style=\"text-align: right;\">\n",
       "      <th></th>\n",
       "      <th>header_timestamp</th>\n",
       "      <th>dimension_value</th>\n",
       "      <th>dimension_code</th>\n",
       "      <th>dimension_unity_code</th>\n",
       "      <th>dimension_thing_code</th>\n",
       "      <th>Unnamed: 5</th>\n",
       "    </tr>\n",
       "  </thead>\n",
       "  <tbody>\n",
       "    <tr>\n",
       "      <th>0</th>\n",
       "      <td>1548696634026</td>\n",
       "      <td>34</td>\n",
       "      <td>1</td>\n",
       "      <td>1</td>\n",
       "      <td>1</td>\n",
       "      <td>NaN</td>\n",
       "    </tr>\n",
       "  </tbody>\n",
       "</table>\n",
       "</div>"
      ],
      "text/plain": [
       "   header_timestamp  dimension_value  dimension_code  dimension_unity_code  \\\n",
       "0     1548696634026               34               1                     1   \n",
       "\n",
       "   dimension_thing_code  Unnamed: 5  \n",
       "0                     1         NaN  "
      ]
     },
     "execution_count": 9,
     "metadata": {},
     "output_type": "execute_result"
    }
   ],
   "source": [
    "df = portia.device(edgeids[0]).port(1).sensor(1).select(params=select_params, last=True)\n",
    "df.head(3)"
   ]
  },
  {
   "cell_type": "code",
   "execution_count": 10,
   "metadata": {},
   "outputs": [
    {
     "data": {
      "text/html": [
       "<div>\n",
       "<style scoped>\n",
       "    .dataframe tbody tr th:only-of-type {\n",
       "        vertical-align: middle;\n",
       "    }\n",
       "\n",
       "    .dataframe tbody tr th {\n",
       "        vertical-align: top;\n",
       "    }\n",
       "\n",
       "    .dataframe thead th {\n",
       "        text-align: right;\n",
       "    }\n",
       "</style>\n",
       "<table border=\"1\" class=\"dataframe\">\n",
       "  <thead>\n",
       "    <tr style=\"text-align: right;\">\n",
       "      <th></th>\n",
       "      <th>header_timestamp</th>\n",
       "      <th>dimension_value</th>\n",
       "      <th>dimension_code</th>\n",
       "      <th>dimension_unity_code</th>\n",
       "      <th>dimension_thing_code</th>\n",
       "      <th>Unnamed: 5</th>\n",
       "    </tr>\n",
       "  </thead>\n",
       "  <tbody>\n",
       "    <tr>\n",
       "      <th>0</th>\n",
       "      <td>1548696634026</td>\n",
       "      <td>34.0</td>\n",
       "      <td>1</td>\n",
       "      <td>1</td>\n",
       "      <td>1</td>\n",
       "      <td>NaN</td>\n",
       "    </tr>\n",
       "    <tr>\n",
       "      <th>1</th>\n",
       "      <td>1548696453163</td>\n",
       "      <td>34.0</td>\n",
       "      <td>1</td>\n",
       "      <td>1</td>\n",
       "      <td>1</td>\n",
       "      <td>NaN</td>\n",
       "    </tr>\n",
       "    <tr>\n",
       "      <th>2</th>\n",
       "      <td>1548696392513</td>\n",
       "      <td>34.0</td>\n",
       "      <td>1</td>\n",
       "      <td>1</td>\n",
       "      <td>1</td>\n",
       "      <td>NaN</td>\n",
       "    </tr>\n",
       "    <tr>\n",
       "      <th>3</th>\n",
       "      <td>1548696331769</td>\n",
       "      <td>34.0</td>\n",
       "      <td>1</td>\n",
       "      <td>1</td>\n",
       "      <td>1</td>\n",
       "      <td>NaN</td>\n",
       "    </tr>\n",
       "    <tr>\n",
       "      <th>4</th>\n",
       "      <td>1548696271755</td>\n",
       "      <td>34.0</td>\n",
       "      <td>1</td>\n",
       "      <td>1</td>\n",
       "      <td>1</td>\n",
       "      <td>NaN</td>\n",
       "    </tr>\n",
       "  </tbody>\n",
       "</table>\n",
       "</div>"
      ],
      "text/plain": [
       "   header_timestamp  dimension_value  dimension_code  dimension_unity_code  \\\n",
       "0     1548696634026             34.0               1                     1   \n",
       "1     1548696453163             34.0               1                     1   \n",
       "2     1548696392513             34.0               1                     1   \n",
       "3     1548696331769             34.0               1                     1   \n",
       "4     1548696271755             34.0               1                     1   \n",
       "\n",
       "   dimension_thing_code  Unnamed: 5  \n",
       "0                     1         NaN  \n",
       "1                     1         NaN  \n",
       "2                     1         NaN  \n",
       "3                     1         NaN  \n",
       "4                     1         NaN  "
      ]
     },
     "execution_count": 10,
     "metadata": {},
     "output_type": "execute_result"
    }
   ],
   "source": [
    "df = portia.device(edgeids[0]).port(1).sensor(1).select(params=select_params)\n",
    "\n",
    "df.head(5)"
   ]
  },
  {
   "cell_type": "code",
   "execution_count": 11,
   "metadata": {},
   "outputs": [
    {
     "data": {
      "text/html": [
       "<div>\n",
       "<style scoped>\n",
       "    .dataframe tbody tr th:only-of-type {\n",
       "        vertical-align: middle;\n",
       "    }\n",
       "\n",
       "    .dataframe tbody tr th {\n",
       "        vertical-align: top;\n",
       "    }\n",
       "\n",
       "    .dataframe thead th {\n",
       "        text-align: right;\n",
       "    }\n",
       "</style>\n",
       "<table border=\"1\" class=\"dataframe\">\n",
       "  <thead>\n",
       "    <tr style=\"text-align: right;\">\n",
       "      <th></th>\n",
       "      <th>header_timestamp</th>\n",
       "      <th>dimension_value</th>\n",
       "      <th>dimension_code</th>\n",
       "      <th>dimension_unity_code</th>\n",
       "      <th>dimension_thing_code</th>\n",
       "      <th>Unnamed: 5</th>\n",
       "    </tr>\n",
       "  </thead>\n",
       "  <tbody>\n",
       "    <tr>\n",
       "      <th>0</th>\n",
       "      <td>1548696634026</td>\n",
       "      <td>34.0</td>\n",
       "      <td>1</td>\n",
       "      <td>1</td>\n",
       "      <td>1</td>\n",
       "      <td>NaN</td>\n",
       "    </tr>\n",
       "    <tr>\n",
       "      <th>1</th>\n",
       "      <td>1548696453163</td>\n",
       "      <td>34.0</td>\n",
       "      <td>1</td>\n",
       "      <td>1</td>\n",
       "      <td>1</td>\n",
       "      <td>NaN</td>\n",
       "    </tr>\n",
       "    <tr>\n",
       "      <th>2</th>\n",
       "      <td>1548696392513</td>\n",
       "      <td>34.0</td>\n",
       "      <td>1</td>\n",
       "      <td>1</td>\n",
       "      <td>1</td>\n",
       "      <td>NaN</td>\n",
       "    </tr>\n",
       "    <tr>\n",
       "      <th>3</th>\n",
       "      <td>1548696331769</td>\n",
       "      <td>34.0</td>\n",
       "      <td>1</td>\n",
       "      <td>1</td>\n",
       "      <td>1</td>\n",
       "      <td>NaN</td>\n",
       "    </tr>\n",
       "    <tr>\n",
       "      <th>4</th>\n",
       "      <td>1548696271755</td>\n",
       "      <td>34.0</td>\n",
       "      <td>1</td>\n",
       "      <td>1</td>\n",
       "      <td>1</td>\n",
       "      <td>NaN</td>\n",
       "    </tr>\n",
       "  </tbody>\n",
       "</table>\n",
       "</div>"
      ],
      "text/plain": [
       "   header_timestamp  dimension_value  dimension_code  dimension_unity_code  \\\n",
       "0     1548696634026             34.0               1                     1   \n",
       "1     1548696453163             34.0               1                     1   \n",
       "2     1548696392513             34.0               1                     1   \n",
       "3     1548696331769             34.0               1                     1   \n",
       "4     1548696271755             34.0               1                     1   \n",
       "\n",
       "   dimension_thing_code  Unnamed: 5  \n",
       "0                     1         NaN  \n",
       "1                     1         NaN  \n",
       "2                     1         NaN  \n",
       "3                     1         NaN  \n",
       "4                     1         NaN  "
      ]
     },
     "execution_count": 11,
     "metadata": {},
     "output_type": "execute_result"
    }
   ],
   "source": [
    "df = portia.device(edgeids[0]).port(1).sensor(1).select(params=select_params)#.humanize(datetime=True)\n",
    "df.head(5)"
   ]
  },
  {
   "cell_type": "code",
   "execution_count": 20,
   "metadata": {},
   "outputs": [
    {
     "name": "stdout",
     "output_type": "stream",
     "text": [
      "AxesSubplot(0.125,0.125;0.775x0.755)\n"
     ]
    },
    {
     "data": {
      "text/plain": [
       "(22729, 6)"
      ]
     },
     "execution_count": 20,
     "metadata": {},
     "output_type": "execute_result"
    },
    {
     "data": {
      "image/png": "[encoded data removed]",
      "text/plain": [
       "<Figure size 432x288 with 1 Axes>"
      ]
     },
     "metadata": {
      "needs_background": "light"
     },
     "output_type": "display_data"
    }
   ],
   "source": [
    "df = portia.device(edgeids[0]).port(1).sensor(1).select(params=select_params)\n",
    "\n",
    "print(df.plot(x='header_timestamp', y='dimension_value'))\n",
    "df.shape"
   ]
  },
  {
   "cell_type": "markdown",
   "metadata": {},
   "source": [
    "## Integrating Portia with Spark RDDs"
   ]
  },
  {
   "cell_type": "code",
   "execution_count": 21,
   "metadata": {},
   "outputs": [
    {
     "data": {
      "text/plain": [
       "[Row(header_timestamp=1548696634026, dimension_value=34.0, dimension_code=1, dimension_unity_code=1, dimension_thing_code=1, Unnamed: 5=nan),\n",
       " Row(header_timestamp=1548696453163, dimension_value=34.0, dimension_code=1, dimension_unity_code=1, dimension_thing_code=1, Unnamed: 5=nan),\n",
       " Row(header_timestamp=1548696392513, dimension_value=34.0, dimension_code=1, dimension_unity_code=1, dimension_thing_code=1, Unnamed: 5=nan),\n",
       " Row(header_timestamp=1548696331769, dimension_value=34.0, dimension_code=1, dimension_unity_code=1, dimension_thing_code=1, Unnamed: 5=nan),\n",
       " Row(header_timestamp=1548696271755, dimension_value=34.0, dimension_code=1, dimension_unity_code=1, dimension_thing_code=1, Unnamed: 5=nan)]"
      ]
     },
     "execution_count": 21,
     "metadata": {},
     "output_type": "execute_result"
    }
   ],
   "source": [
    "from pyspark.sql import SQLContext\n",
    "sqlContext = SQLContext(spark)\n",
    "spark_df = sqlContext.createDataFrame(df)\n",
    "spark_df.head(5)"
   ]
  },
  {
   "cell_type": "code",
   "execution_count": 22,
   "metadata": {},
   "outputs": [
    {
     "name": "stdout",
     "output_type": "stream",
     "text": [
      "root\n",
      " |-- header_timestamp: long (nullable = true)\n",
      " |-- dimension_value: double (nullable = true)\n",
      " |-- dimension_code: long (nullable = true)\n",
      " |-- dimension_unity_code: long (nullable = true)\n",
      " |-- dimension_thing_code: long (nullable = true)\n",
      " |-- Unnamed: 5: double (nullable = true)\n",
      "\n"
     ]
    }
   ],
   "source": [
    "spark_df.printSchema()"
   ]
  },
  {
   "cell_type": "code",
   "execution_count": 25,
   "metadata": {},
   "outputs": [
    {
     "name": "stdout",
     "output_type": "stream",
     "text": [
      "root\n",
      " |-- header_timestamp: long (nullable = true)\n",
      " |-- dimension_value: double (nullable = true)\n",
      " |-- dimension_code: long (nullable = true)\n",
      " |-- dimension_unity_code: long (nullable = true)\n",
      " |-- dimension_thing_code: long (nullable = true)\n",
      "\n"
     ]
    }
   ],
   "source": [
    "spark_df = spark_df.drop(\"Unnamed: 5\")\n",
    "spark_df.printSchema()"
   ]
  },
  {
   "cell_type": "code",
   "execution_count": 26,
   "metadata": {},
   "outputs": [
    {
     "name": "stdout",
     "output_type": "stream",
     "text": [
      "+---------------+----------------+\n",
      "|dimension_value|header_timestamp|\n",
      "+---------------+----------------+\n",
      "|           34.0|   1548696634026|\n",
      "|           34.0|   1548696453163|\n",
      "|           34.0|   1548696392513|\n",
      "|           34.0|   1548696331769|\n",
      "|           34.0|   1548696271755|\n",
      "|           33.9|   1548696211735|\n",
      "|           33.8|   1548695971196|\n",
      "|           33.8|   1548695910711|\n",
      "|           33.7|   1548695790651|\n",
      "|           33.7|   1548695730673|\n",
      "|           33.6|   1548695550426|\n",
      "|           33.6|   1548695490278|\n",
      "|           33.6|   1548695430224|\n",
      "|           33.6|   1548695370183|\n",
      "|           33.7|   1548695129337|\n",
      "|           33.7|   1548695068561|\n",
      "|           33.7|   1548694947732|\n",
      "|           33.6|   1548694827067|\n",
      "|           33.6|   1548694705626|\n",
      "|           33.5|   1548694584952|\n",
      "+---------------+----------------+\n",
      "only showing top 20 rows\n",
      "\n"
     ]
    }
   ],
   "source": [
    "spark_df.select(\"dimension_value\",\"header_timestamp\").orderBy(\"header_timestamp\", ascending=False).show()"
   ]
  },
  {
   "cell_type": "code",
   "execution_count": 62,
   "metadata": {},
   "outputs": [
    {
     "data": {
      "text/plain": [
       "[(1, 600954.6999999998)]"
      ]
     },
     "execution_count": 62,
     "metadata": {},
     "output_type": "execute_result"
    }
   ],
   "source": [
    "from operator import add\n",
    "spark_df.select(\"dimension_value\").rdd.map(lambda a: (1, a['dimension_value'])).reduceByKey(lambda a,b: a + b).collect()"
   ]
  },
  {
   "cell_type": "code",
   "execution_count": 63,
   "metadata": {},
   "outputs": [
    {
     "data": {
      "text/plain": [
       "MapPartitionsRDD[255] at javaToPython at <unknown>:0"
      ]
     },
     "execution_count": 63,
     "metadata": {},
     "output_type": "execute_result"
    }
   ],
   "source": [
    "spark_df.select(\"dimension_value\").rdd"
   ]
  },
  {
   "cell_type": "code",
   "execution_count": 65,
   "metadata": {},
   "outputs": [
    {
     "data": {
      "text/plain": [
       "DataFrame[header_timestamp: bigint, dimension_value: double, dimension_code: bigint, dimension_unity_code: bigint, dimension_thing_code: bigint]"
      ]
     },
     "execution_count": 65,
     "metadata": {},
     "output_type": "execute_result"
    }
   ],
   "source": [
    "spark_df.s"
   ]
  }
 ],
 "metadata": {
  "kernelspec": {
   "display_name": "Python 3",
   "language": "python",
   "name": "python3"
  },
  "language_info": {
   "codemirror_mode": {
    "name": "ipython",
    "version": 3
   },
   "file_extension": ".py",
   "mimetype": "text/x-python",
   "name": "python",
   "nbconvert_exporter": "python",
   "pygments_lexer": "ipython3",
   "version": "3.6.7"
  }
 },
 "nbformat": 4,
 "nbformat_minor": 2
}
