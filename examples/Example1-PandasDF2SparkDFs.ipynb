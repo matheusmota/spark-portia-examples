{
 "cells": [
  {
   "cell_type": "markdown",
   "metadata": {},
   "source": [
    "# Preparing the enviroment\n",
    "\n",
    "We will be using environment variables for Portia's information (keys, URLs, etc.) and some Spark/pyspark directives.\n",
    "\n",
    "Please refer to [this link](https://ipython.readthedocs.io/en/stable/interactive/magics.html#magic-env) for more information about Jupyter Magics for environment variables.\n",
    "\n",
    "```bash\n",
    "%env PYSPARK_PYTHON        = python3.6\n",
    "%env PYSPARK_DRIVER_PYTHON = python3.6\n",
    "```\n",
    "\n",
    "Alternatively, you may handle the environment variables programmatically via python itself\n",
    "\n",
    "```python\n",
    "import os \n",
    "os.environ[\"PYSPARK_PYTHON\"]        = \"python3.6\"\n",
    "os.environ[\"PYSPARK_DRIVER_PYTHON\"] = \"python3.6\"\n",
    "```\n",
    "\n",
    "Here we will be using [python-dotenv](https://github.com/theskumar/python-dotenv). Feel free to also [source](https://bash.cyberciti.biz/guide/Source_command) the file in bash (the \"source\" command within the file is ignored by python-dotenv)\n"
   ]
  },
  {
   "cell_type": "code",
   "execution_count": 1,
   "metadata": {},
   "outputs": [
    {
     "data": {
      "text/plain": [
       "True"
      ]
     },
     "execution_count": 1,
     "metadata": {},
     "output_type": "execute_result"
    }
   ],
   "source": [
    "# loading .env  \n",
    "import dotenv  \n",
    "import pathlib \n",
    "dotenv.load_dotenv(dotenv_path=pathlib.Path('../.env'))"
   ]
  },
  {
   "cell_type": "markdown",
   "metadata": {},
   "source": [
    "## Setting up PySpark"
   ]
  },
  {
   "cell_type": "code",
   "execution_count": 2,
   "metadata": {},
   "outputs": [],
   "source": [
    "import os \n",
    "from pyspark import SparkConf, SparkContext"
   ]
  },
  {
   "cell_type": "code",
   "execution_count": 3,
   "metadata": {},
   "outputs": [],
   "source": [
    "conf  = SparkConf().setMaster(os.getenv(\"SPARK_MASTER_URL\")).setAppName(\"portia-integration\")\n",
    "spark = SparkContext(conf = conf)"
   ]
  },
  {
   "cell_type": "markdown",
   "metadata": {},
   "source": [
    "## Setting up Portia"
   ]
  },
  {
   "cell_type": "code",
   "execution_count": 12,
   "metadata": {},
   "outputs": [],
   "source": [
    "from portiapy.portia  import PortiaApi\n",
    "from portiapy.profile import ProfileStrategies\n",
    "from portiapy.summary import SummaryStrategies\n",
    "\n",
    "import json\n",
    "\n",
    "portia = PortiaApi({\n",
    "    'baseurl': os.getenv(\"PORTIA_BASEURL\") ,\n",
    "    'authorization': os.getenv(\"PORTIA_KEY\"), \n",
    "    'debug': bool(os.getenv(\"PORTIA_DEBUG\") == 'True')\n",
    "})"
   ]
  },
  {
   "cell_type": "markdown",
   "metadata": {},
   "source": [
    "### Params"
   ]
  },
  {
   "cell_type": "code",
   "execution_count": 13,
   "metadata": {},
   "outputs": [],
   "source": [
    "summary_params = {\n",
    "#    'from': grafana_from_timestamp,\n",
    "#    'to': grafana_to_timestamp,\n",
    "    'order': '-1',\n",
    "    #'precision': 'ms',\n",
    "    'min': True,\n",
    "    'max': True,\n",
    "    'sum': False,\n",
    "    'avg': False,\n",
    "    'median': False,\n",
    "    'mode'  : False,\n",
    "    'stddev': False,\n",
    "    'spread': False,\n",
    "    'fill': 'null'\n",
    "}\n",
    "\n",
    "select_params = {\n",
    "#     'from': None,\n",
    "#     'to': None,\n",
    "    'order': None,\n",
    "    'precision': 'ms',\n",
    "#     'limit': 1\n",
    "}"
   ]
  },
  {
   "cell_type": "code",
   "execution_count": 14,
   "metadata": {},
   "outputs": [],
   "source": [
    "edgeids   = os.getenv(\"EDGEIDS\").split(',')"
   ]
  },
  {
   "cell_type": "code",
   "execution_count": 15,
   "metadata": {},
   "outputs": [
    {
     "name": "stdout",
     "output_type": "stream",
     "text": [
      "[portia-debug]: status: 200 | 0.0703 sec. | http://edge-portia-api.sa-east-1.elasticbeanstalk.com/v3/describe/device/KytTDwUp-j8yrsh8h/ports/last?precision=ms&sort=true\n",
      "[portia-debug]: [{'header_timestamp': 1550086945535, 'dimension_thing_code': 1, 'port': '1'}, {'header_timestamp': 1550086925411, 'dimension_thing_code': 1, 'port': '2'}, {'header_timestamp': 1550086926807, 'dimension_thing_code': 2, 'port': '3'}]\n"
     ]
    },
    {
     "data": {
      "text/html": [
       "<div>\n",
       "<style scoped>\n",
       "    .dataframe tbody tr th:only-of-type {\n",
       "        vertical-align: middle;\n",
       "    }\n",
       "\n",
       "    .dataframe tbody tr th {\n",
       "        vertical-align: top;\n",
       "    }\n",
       "\n",
       "    .dataframe thead th {\n",
       "        text-align: right;\n",
       "    }\n",
       "</style>\n",
       "<table border=\"1\" class=\"dataframe\">\n",
       "  <thead>\n",
       "    <tr style=\"text-align: right;\">\n",
       "      <th></th>\n",
       "      <th>header_datetime</th>\n",
       "      <th>port</th>\n",
       "      <th>dimension_thing</th>\n",
       "    </tr>\n",
       "  </thead>\n",
       "  <tbody>\n",
       "    <tr>\n",
       "      <th>0</th>\n",
       "      <td>seconds ago</td>\n",
       "      <td>1</td>\n",
       "      <td>SondaTU_v1</td>\n",
       "    </tr>\n",
       "    <tr>\n",
       "      <th>1</th>\n",
       "      <td>seconds ago</td>\n",
       "      <td>2</td>\n",
       "      <td>SondaTU_v1</td>\n",
       "    </tr>\n",
       "    <tr>\n",
       "      <th>2</th>\n",
       "      <td>seconds ago</td>\n",
       "      <td>3</td>\n",
       "      <td>SondaAirQ_v1</td>\n",
       "    </tr>\n",
       "  </tbody>\n",
       "</table>\n",
       "</div>"
      ],
      "text/plain": [
       "  header_datetime port dimension_thing\n",
       "0     seconds ago    1      SondaTU_v1\n",
       "1     seconds ago    2      SondaTU_v1\n",
       "2     seconds ago    3    SondaAirQ_v1"
      ]
     },
     "execution_count": 15,
     "metadata": {},
     "output_type": "execute_result"
    }
   ],
   "source": [
    "ports_df = portia.device(edgeids[0]).ports(last=True)\n",
    "ports_df.humanize(datetime=True)"
   ]
  },
  {
   "cell_type": "code",
   "execution_count": 16,
   "metadata": {},
   "outputs": [
    {
     "name": "stdout",
     "output_type": "stream",
     "text": [
      "[portia-debug]: status: 400 | 0.0480 sec. | http://edge-portia-api.sa-east-1.elasticbeanstalk.com/v3/summary/device/KytTDwUp-j8yrsh8h/port/1/sensor/-1/permonth/1?order=-1&min=true&max=true&sum=false&avg=false&median=false&mode=false&stddev=false&spread=false&fill=null\n"
     ]
    },
    {
     "ename": "Exception",
     "evalue": "couldn't retrieve data",
     "output_type": "error",
     "traceback": [
      "\u001b[0;31m---------------------------------------------------------------------------\u001b[0m",
      "\u001b[0;31mException\u001b[0m                                 Traceback (most recent call last)",
      "\u001b[0;32m<ipython-input-16-dd0f9aebac9e>\u001b[0m in \u001b[0;36m<module>\u001b[0;34m\u001b[0m\n\u001b[0;32m----> 1\u001b[0;31m \u001b[0msummary_df\u001b[0m \u001b[0;34m=\u001b[0m \u001b[0mportia\u001b[0m\u001b[0;34m.\u001b[0m\u001b[0mdevice\u001b[0m\u001b[0;34m(\u001b[0m\u001b[0medgeids\u001b[0m\u001b[0;34m[\u001b[0m\u001b[0;36m0\u001b[0m\u001b[0;34m]\u001b[0m\u001b[0;34m)\u001b[0m\u001b[0;34m.\u001b[0m\u001b[0mport\u001b[0m\u001b[0;34m(\u001b[0m\u001b[0;36m1\u001b[0m\u001b[0;34m)\u001b[0m\u001b[0;34m.\u001b[0m\u001b[0msensor\u001b[0m\u001b[0;34m(\u001b[0m\u001b[0;34m-\u001b[0m\u001b[0;36m1\u001b[0m\u001b[0;34m)\u001b[0m\u001b[0;34m.\u001b[0m\u001b[0msummary\u001b[0m\u001b[0;34m(\u001b[0m\u001b[0mstrategy\u001b[0m\u001b[0;34m=\u001b[0m\u001b[0mSummaryStrategies\u001b[0m\u001b[0;34m.\u001b[0m\u001b[0mPER_MONTH\u001b[0m\u001b[0;34m,\u001b[0m \u001b[0minterval\u001b[0m\u001b[0;34m=\u001b[0m\u001b[0;36m1\u001b[0m\u001b[0;34m,\u001b[0m \u001b[0mparams\u001b[0m\u001b[0;34m=\u001b[0m\u001b[0msummary_params\u001b[0m\u001b[0;34m)\u001b[0m\u001b[0;34m\u001b[0m\u001b[0;34m\u001b[0m\u001b[0m\n\u001b[0m\u001b[1;32m      2\u001b[0m \u001b[0msummary_df\u001b[0m\u001b[0;34m.\u001b[0m\u001b[0mhead\u001b[0m\u001b[0;34m(\u001b[0m\u001b[0;36m10\u001b[0m\u001b[0;34m)\u001b[0m\u001b[0;34m\u001b[0m\u001b[0;34m\u001b[0m\u001b[0m\n",
      "\u001b[0;32m~/.local/lib/python3.6/site-packages/portiapy/portia.py\u001b[0m in \u001b[0;36msummary\u001b[0;34m(self, strategy, interval, params)\u001b[0m\n\u001b[1;32m    170\u001b[0m                         \u001b[0;32mreturn\u001b[0m \u001b[0msummary\u001b[0m\u001b[0;34m.\u001b[0m\u001b[0mqueryByPortSensor\u001b[0m\u001b[0;34m(\u001b[0m\u001b[0mself\u001b[0m\u001b[0;34m.\u001b[0m\u001b[0mportiaConfig\u001b[0m\u001b[0;34m,\u001b[0m \u001b[0mself\u001b[0m\u001b[0;34m.\u001b[0m\u001b[0medgeId\u001b[0m\u001b[0;34m,\u001b[0m \u001b[0mself\u001b[0m\u001b[0;34m.\u001b[0m\u001b[0mport\u001b[0m\u001b[0;34m,\u001b[0m \u001b[0mself\u001b[0m\u001b[0;34m.\u001b[0m\u001b[0msensor\u001b[0m\u001b[0;34m,\u001b[0m \u001b[0mstrategy\u001b[0m\u001b[0;34m,\u001b[0m \u001b[0minterval\u001b[0m\u001b[0;34m)\u001b[0m\u001b[0;34m\u001b[0m\u001b[0;34m\u001b[0m\u001b[0m\n\u001b[1;32m    171\u001b[0m                 \u001b[0;32melse\u001b[0m\u001b[0;34m:\u001b[0m\u001b[0;34m\u001b[0m\u001b[0;34m\u001b[0m\u001b[0m\n\u001b[0;32m--> 172\u001b[0;31m                         \u001b[0;32mreturn\u001b[0m \u001b[0msummary\u001b[0m\u001b[0;34m.\u001b[0m\u001b[0mqueryByPortSensor\u001b[0m\u001b[0;34m(\u001b[0m\u001b[0mself\u001b[0m\u001b[0;34m.\u001b[0m\u001b[0mportiaConfig\u001b[0m\u001b[0;34m,\u001b[0m \u001b[0mself\u001b[0m\u001b[0;34m.\u001b[0m\u001b[0medgeId\u001b[0m\u001b[0;34m,\u001b[0m \u001b[0mself\u001b[0m\u001b[0;34m.\u001b[0m\u001b[0mport\u001b[0m\u001b[0;34m,\u001b[0m \u001b[0mself\u001b[0m\u001b[0;34m.\u001b[0m\u001b[0msensor\u001b[0m\u001b[0;34m,\u001b[0m \u001b[0mstrategy\u001b[0m\u001b[0;34m,\u001b[0m \u001b[0minterval\u001b[0m\u001b[0;34m,\u001b[0m \u001b[0mparams\u001b[0m\u001b[0;34m)\u001b[0m\u001b[0;34m\u001b[0m\u001b[0;34m\u001b[0m\u001b[0m\n\u001b[0m\u001b[1;32m    173\u001b[0m \u001b[0;34m\u001b[0m\u001b[0m\n\u001b[1;32m    174\u001b[0m \u001b[0;31m# class EdgeDeviceSensor\u001b[0m\u001b[0;34m\u001b[0m\u001b[0;34m\u001b[0m\u001b[0;34m\u001b[0m\u001b[0m\n",
      "\u001b[0;32m~/.local/lib/python3.6/site-packages/portiapy/summary.py\u001b[0m in \u001b[0;36mqueryByPortSensor\u001b[0;34m(portiaConfig, edgeId, port, sensor, strategy, interval, params)\u001b[0m\n\u001b[1;32m     57\u001b[0m             \u001b[0;32mraise\u001b[0m \u001b[0mException\u001b[0m\u001b[0;34m(\u001b[0m\u001b[0;34m'couldn\\'t create pandas data frame'\u001b[0m\u001b[0;34m)\u001b[0m\u001b[0;34m\u001b[0m\u001b[0;34m\u001b[0m\u001b[0m\n\u001b[1;32m     58\u001b[0m     \u001b[0;32melse\u001b[0m\u001b[0;34m:\u001b[0m\u001b[0;34m\u001b[0m\u001b[0;34m\u001b[0m\u001b[0m\n\u001b[0;32m---> 59\u001b[0;31m         \u001b[0;32mraise\u001b[0m \u001b[0mException\u001b[0m\u001b[0;34m(\u001b[0m\u001b[0;34m'couldn\\'t retrieve data'\u001b[0m\u001b[0;34m)\u001b[0m\u001b[0;34m\u001b[0m\u001b[0;34m\u001b[0m\u001b[0m\n\u001b[0m\u001b[1;32m     60\u001b[0m \u001b[0;34m\u001b[0m\u001b[0m\n\u001b[1;32m     61\u001b[0m \u001b[0;31m########################################\u001b[0m\u001b[0;34m\u001b[0m\u001b[0;34m\u001b[0m\u001b[0;34m\u001b[0m\u001b[0m\n",
      "\u001b[0;31mException\u001b[0m: couldn't retrieve data"
     ]
    }
   ],
   "source": [
    "summary_df = portia.device(edgeids[0]).port(1).sensor(-1).summary(strategy=SummaryStrategies.PER_MONTH, interval=1, params=summary_params)\n",
    "summary_df.head(10)"
   ]
  },
  {
   "cell_type": "code",
   "execution_count": 14,
   "metadata": {},
   "outputs": [
    {
     "data": {
      "text/html": [
       "<div>\n",
       "<style scoped>\n",
       "    .dataframe tbody tr th:only-of-type {\n",
       "        vertical-align: middle;\n",
       "    }\n",
       "\n",
       "    .dataframe tbody tr th {\n",
       "        vertical-align: top;\n",
       "    }\n",
       "\n",
       "    .dataframe thead th {\n",
       "        text-align: right;\n",
       "    }\n",
       "</style>\n",
       "<table border=\"1\" class=\"dataframe\">\n",
       "  <thead>\n",
       "    <tr style=\"text-align: right;\">\n",
       "      <th></th>\n",
       "      <th>header_timestamp</th>\n",
       "      <th>dimension_value</th>\n",
       "      <th>dimension_code</th>\n",
       "      <th>dimension_unity_code</th>\n",
       "      <th>dimension_thing_code</th>\n",
       "      <th>Unnamed: 5</th>\n",
       "    </tr>\n",
       "  </thead>\n",
       "  <tbody>\n",
       "    <tr>\n",
       "      <th>0</th>\n",
       "      <td>1549037055689</td>\n",
       "      <td>35.7</td>\n",
       "      <td>1</td>\n",
       "      <td>1</td>\n",
       "      <td>1</td>\n",
       "      <td>NaN</td>\n",
       "    </tr>\n",
       "  </tbody>\n",
       "</table>\n",
       "</div>"
      ],
      "text/plain": [
       "   header_timestamp  dimension_value  dimension_code  dimension_unity_code  \\\n",
       "0     1549037055689             35.7               1                     1   \n",
       "\n",
       "   dimension_thing_code  Unnamed: 5  \n",
       "0                     1         NaN  "
      ]
     },
     "execution_count": 14,
     "metadata": {},
     "output_type": "execute_result"
    }
   ],
   "source": [
    "df = portia.device(edgeids[0]).port(1).sensor(1).select(params=select_params, last=True)\n",
    "df.head(3)"
   ]
  },
  {
   "cell_type": "code",
   "execution_count": 15,
   "metadata": {},
   "outputs": [],
   "source": [
    "df = portia.device(edgeids[0]).port(1).sensor(1).select(params=select_params)\n",
    "\n"
   ]
  },
  {
   "cell_type": "code",
   "execution_count": 16,
   "metadata": {},
   "outputs": [
    {
     "data": {
      "text/html": [
       "<div>\n",
       "<style scoped>\n",
       "    .dataframe tbody tr th:only-of-type {\n",
       "        vertical-align: middle;\n",
       "    }\n",
       "\n",
       "    .dataframe tbody tr th {\n",
       "        vertical-align: top;\n",
       "    }\n",
       "\n",
       "    .dataframe thead th {\n",
       "        text-align: right;\n",
       "    }\n",
       "</style>\n",
       "<table border=\"1\" class=\"dataframe\">\n",
       "  <thead>\n",
       "    <tr style=\"text-align: right;\">\n",
       "      <th></th>\n",
       "      <th>header_timestamp</th>\n",
       "      <th>dimension_value</th>\n",
       "      <th>dimension_code</th>\n",
       "      <th>dimension_unity_code</th>\n",
       "      <th>dimension_thing_code</th>\n",
       "      <th>Unnamed: 5</th>\n",
       "    </tr>\n",
       "  </thead>\n",
       "  <tbody>\n",
       "    <tr>\n",
       "      <th>0</th>\n",
       "      <td>1549037055689</td>\n",
       "      <td>35.7</td>\n",
       "      <td>1</td>\n",
       "      <td>1</td>\n",
       "      <td>1</td>\n",
       "      <td>NaN</td>\n",
       "    </tr>\n",
       "    <tr>\n",
       "      <th>1</th>\n",
       "      <td>1549036995634</td>\n",
       "      <td>35.7</td>\n",
       "      <td>1</td>\n",
       "      <td>1</td>\n",
       "      <td>1</td>\n",
       "      <td>NaN</td>\n",
       "    </tr>\n",
       "    <tr>\n",
       "      <th>2</th>\n",
       "      <td>1549036935453</td>\n",
       "      <td>35.7</td>\n",
       "      <td>1</td>\n",
       "      <td>1</td>\n",
       "      <td>1</td>\n",
       "      <td>NaN</td>\n",
       "    </tr>\n",
       "    <tr>\n",
       "      <th>3</th>\n",
       "      <td>1549036875524</td>\n",
       "      <td>35.7</td>\n",
       "      <td>1</td>\n",
       "      <td>1</td>\n",
       "      <td>1</td>\n",
       "      <td>NaN</td>\n",
       "    </tr>\n",
       "    <tr>\n",
       "      <th>4</th>\n",
       "      <td>1549036334898</td>\n",
       "      <td>35.6</td>\n",
       "      <td>1</td>\n",
       "      <td>1</td>\n",
       "      <td>1</td>\n",
       "      <td>NaN</td>\n",
       "    </tr>\n",
       "  </tbody>\n",
       "</table>\n",
       "</div>"
      ],
      "text/plain": [
       "   header_timestamp  dimension_value  dimension_code  dimension_unity_code  \\\n",
       "0     1549037055689             35.7               1                     1   \n",
       "1     1549036995634             35.7               1                     1   \n",
       "2     1549036935453             35.7               1                     1   \n",
       "3     1549036875524             35.7               1                     1   \n",
       "4     1549036334898             35.6               1                     1   \n",
       "\n",
       "   dimension_thing_code  Unnamed: 5  \n",
       "0                     1         NaN  \n",
       "1                     1         NaN  \n",
       "2                     1         NaN  \n",
       "3                     1         NaN  \n",
       "4                     1         NaN  "
      ]
     },
     "execution_count": 16,
     "metadata": {},
     "output_type": "execute_result"
    }
   ],
   "source": [
    "df = portia.device(edgeids[0]).port(1).sensor(1).select(params=select_params)\n",
    "df.head(5)"
   ]
  },
  {
   "cell_type": "code",
   "execution_count": 12,
   "metadata": {},
   "outputs": [
    {
     "name": "stdout",
     "output_type": "stream",
     "text": [
      "AxesSubplot(0.125,0.11;0.775x0.77)\n"
     ]
    },
    {
     "data": {
      "text/plain": [
       "(21622, 6)"
      ]
     },
     "execution_count": 12,
     "metadata": {},
     "output_type": "execute_result"
    }
   ],
   "source": [
    "df = portia.device(edgeids[0]).port(1).sensor(1).select(params=select_params)\n",
    "\n",
    "print(df.plot(x='header_timestamp', y='dimension_value'))\n",
    "df.shape"
   ]
  },
  {
   "cell_type": "markdown",
   "metadata": {},
   "source": [
    "## Integrating Portia with Spark RDDs"
   ]
  },
  {
   "cell_type": "code",
   "execution_count": 17,
   "metadata": {},
   "outputs": [
    {
     "data": {
      "text/plain": [
       "[Row(header_timestamp=1549037055689, dimension_value=35.7, dimension_code=1, dimension_unity_code=1, dimension_thing_code=1, Unnamed: 5=nan),\n",
       " Row(header_timestamp=1549036995634, dimension_value=35.7, dimension_code=1, dimension_unity_code=1, dimension_thing_code=1, Unnamed: 5=nan),\n",
       " Row(header_timestamp=1549036935453, dimension_value=35.7, dimension_code=1, dimension_unity_code=1, dimension_thing_code=1, Unnamed: 5=nan),\n",
       " Row(header_timestamp=1549036875524, dimension_value=35.7, dimension_code=1, dimension_unity_code=1, dimension_thing_code=1, Unnamed: 5=nan),\n",
       " Row(header_timestamp=1549036334898, dimension_value=35.6, dimension_code=1, dimension_unity_code=1, dimension_thing_code=1, Unnamed: 5=nan)]"
      ]
     },
     "execution_count": 17,
     "metadata": {},
     "output_type": "execute_result"
    }
   ],
   "source": [
    "from pyspark.sql import SQLContext\n",
    "sqlContext = SQLContext(spark)\n",
    "spark_df = sqlContext.createDataFrame(df)\n",
    "spark_df.head(5)"
   ]
  },
  {
   "cell_type": "code",
   "execution_count": 18,
   "metadata": {},
   "outputs": [
    {
     "name": "stdout",
     "output_type": "stream",
     "text": [
      "root\n",
      " |-- header_timestamp: long (nullable = true)\n",
      " |-- dimension_value: double (nullable = true)\n",
      " |-- dimension_code: long (nullable = true)\n",
      " |-- dimension_unity_code: long (nullable = true)\n",
      " |-- dimension_thing_code: long (nullable = true)\n",
      " |-- Unnamed: 5: double (nullable = true)\n",
      "\n"
     ]
    }
   ],
   "source": [
    "spark_df.printSchema()"
   ]
  },
  {
   "cell_type": "code",
   "execution_count": 22,
   "metadata": {},
   "outputs": [
    {
     "name": "stdout",
     "output_type": "stream",
     "text": [
      "root\n",
      " |-- header_timestamp: long (nullable = true)\n",
      " |-- dimension_value: double (nullable = true)\n",
      " |-- dimension_code: long (nullable = true)\n",
      " |-- dimension_unity_code: long (nullable = true)\n",
      " |-- dimension_thing_code: long (nullable = true)\n",
      "\n"
     ]
    }
   ],
   "source": [
    "spark_df = spark_df.drop(\"Unnamed: 5\")\n",
    "spark_df.printSchema()"
   ]
  },
  {
   "cell_type": "code",
   "execution_count": 25,
   "metadata": {},
   "outputs": [
    {
     "name": "stdout",
     "output_type": "stream",
     "text": [
      "CPU times: user 5.13 ms, sys: 3.94 ms, total: 9.07 ms\n",
      "Wall time: 470 ms\n"
     ]
    },
    {
     "data": {
      "text/plain": [
       "[Row(header_timestamp=1549037055689, dimension_value=35.7, dimension_code=1, dimension_unity_code=1, dimension_thing_code=1),\n",
       " Row(header_timestamp=1549036995634, dimension_value=35.7, dimension_code=1, dimension_unity_code=1, dimension_thing_code=1),\n",
       " Row(header_timestamp=1549036935453, dimension_value=35.7, dimension_code=1, dimension_unity_code=1, dimension_thing_code=1),\n",
       " Row(header_timestamp=1549036875524, dimension_value=35.7, dimension_code=1, dimension_unity_code=1, dimension_thing_code=1),\n",
       " Row(header_timestamp=1549036334898, dimension_value=35.6, dimension_code=1, dimension_unity_code=1, dimension_thing_code=1)]"
      ]
     },
     "execution_count": 25,
     "metadata": {},
     "output_type": "execute_result"
    }
   ],
   "source": [
    "%%time\n",
    "spark_df.head(5)\n"
   ]
  },
  {
   "cell_type": "code",
   "execution_count": 26,
   "metadata": {},
   "outputs": [
    {
     "name": "stdout",
     "output_type": "stream",
     "text": [
      "+---------------+----------------+\n",
      "|dimension_value|header_timestamp|\n",
      "+---------------+----------------+\n",
      "|           35.7|   1549037055689|\n",
      "|           35.7|   1549036995634|\n",
      "|           35.7|   1549036935453|\n",
      "|           35.7|   1549036875524|\n",
      "|           35.6|   1549036334898|\n",
      "|           35.3|   1549036034664|\n",
      "|           35.3|   1549035914418|\n",
      "|           35.3|   1549035794266|\n",
      "|           35.3|   1549035433088|\n",
      "|           35.3|   1549035373099|\n",
      "|           35.3|   1549035313005|\n",
      "|           35.2|   1549035132778|\n",
      "|           35.3|   1549035072814|\n",
      "|           35.2|   1549035012335|\n",
      "|           35.3|   1549034832122|\n",
      "|           35.3|   1549034711994|\n",
      "|           35.3|   1549034591888|\n",
      "|           35.3|   1549034531761|\n",
      "|           34.9|   1549034171327|\n",
      "|           34.9|   1549034111166|\n",
      "+---------------+----------------+\n",
      "only showing top 20 rows\n",
      "\n",
      "CPU times: user 21.9 ms, sys: 1.62 ms, total: 23.5 ms\n",
      "Wall time: 464 ms\n"
     ]
    }
   ],
   "source": [
    "%%time\n",
    "spark_df.select(\"dimension_value\",\"header_timestamp\").orderBy(\"header_timestamp\", ascending=False).show()"
   ]
  },
  {
   "cell_type": "code",
   "execution_count": 27,
   "metadata": {},
   "outputs": [
    {
     "name": "stdout",
     "output_type": "stream",
     "text": [
      "CPU times: user 85.3 ms, sys: 32.5 ms, total: 118 ms\n",
      "Wall time: 2.26 s\n"
     ]
    }
   ],
   "source": [
    "%%time\n",
    "from operator import add\n",
    "spark_df.select(\"dimension_value\").rdd.map(lambda a: (1, a['dimension_value'])).reduceByKey(lambda a,b: a + b).collect()"
   ]
  },
  {
   "cell_type": "code",
   "execution_count": 63,
   "metadata": {},
   "outputs": [
    {
     "data": {
      "text/plain": [
       "MapPartitionsRDD[255] at javaToPython at <unknown>:0"
      ]
     },
     "execution_count": 63,
     "metadata": {},
     "output_type": "execute_result"
    }
   ],
   "source": [
    "spark_df.select(\"dimension_value\").rdd"
   ]
  },
  {
   "cell_type": "code",
   "execution_count": 28,
   "metadata": {},
   "outputs": [
    {
     "data": {
      "text/plain": [
       "21622"
      ]
     },
     "execution_count": 28,
     "metadata": {},
     "output_type": "execute_result"
    }
   ],
   "source": [
    "spark_df.count()"
   ]
  }
 ],
 "metadata": {
  "kernelspec": {
   "display_name": "Python 3",
   "language": "python",
   "name": "python3"
  },
  "language_info": {
   "codemirror_mode": {
    "name": "ipython",
    "version": 3
   },
   "file_extension": ".py",
   "mimetype": "text/x-python",
   "name": "python",
   "nbconvert_exporter": "python",
   "pygments_lexer": "ipython3",
   "version": "3.6.7"
  }
 },
 "nbformat": 4,
 "nbformat_minor": 2
}
